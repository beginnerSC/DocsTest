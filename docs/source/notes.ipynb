{
 "cells": [
  {
   "cell_type": "markdown",
   "source": [
    "# Notes\n",
    "\n",
    "## nbsphinx\n",
    "\n",
    "* See sphinx tutorial [new](https://www.youtube.com/watch?v=RvJ54ADcVno), [old](https://www.youtube.com/watch?v=oJsUvBQyHBs&feature=youtu.be) & [nbsphinx doc](https://nbsphinx.readthedocs.io/en/0.7.1/index.html)\n",
    "* 建一個 folder docs\n",
    "* 進到 docs 裡 ```sphinx-quickstart``` 開啟 wizard\n",
    "    * [] 裡的是預設值\n",
    "    * release 隨便打，例如 0.1\n",
    "* 跑完會出現 docs/source/conf.py，把 ```'nbsphinx'``` 加到 ```extensions``` 裡\n",
    "* 在 docs 裡 ```make html```，生成的 index.html 在 docs/build/html 裡\n",
    "* 在 docs/source/index.rst 裡的 toctree 很重要不能 delete 不然 sphinx 會沒辦法 make\n",
    "    * 可以自己手動改的 index.rst 的 title\n",
    "* 在 docs/source 裡新增 ipynb，在 index.rst 的 toctree 裡紀錄 ipynb 的檔名（不需要副檔名）\n",
    "    * 每個 ipynb file 一定要有 title\n",
    "    * toctree 要對齊像這樣：\n",
    "        ```\n",
    "        .. toctree::\n",
    "           :maxdepth: 2\n",
    "           :caption: Contents:\n",
    "                                <---- 這裡一定要有一個空行 \n",
    "           MYIPYNBFILENAME\n",
    "        ```\n",
    "    * 可以加 ```:hidden:``` 然後就會只出現在網頁左邊\n",
    "    * 參考 [sphinx getting started guide](https://www.sphinx-doc.org/en/master/usage/quickstart.html) & [toctree directive](https://www.sphinx-doc.org/en/master/usage/restructuredtext/directives.html#directive-toctree)\n",
    "    * 也可以改 toctree maxdepth\n",
    "    * 可以有多個 toctree 用不同的 captions，像 [JupyterLab doc](https://jupyterlab.readthedocs.io/en/stable/)\n",
    "* 切換成 3rd party readthedoc theme\n",
    "    * 需要事先 ```pip install sphinx_rtd_theme```\n",
    "    * 到 conf.py import 並更換 ```html_theme```：\n",
    "        ```\n",
    "        import sphinx_rtd_theme\n",
    "        html_theme = 'sphinx_rtd_theme'\n",
    "        ```\n",
    "* 內容全部加完後回到 docs 裡重新 ```make html```\n",
    "* ```make clean``` 刪除所有 build 裡的內容\n"
   ],
   "metadata": {}
  }
 ],
 "metadata": {
  "kernelspec": {
   "display_name": "Python 3",
   "language": "python",
   "name": "python3"
  },
  "language_info": {
   "codemirror_mode": {
    "name": "ipython",
    "version": 3
   },
   "file_extension": ".py",
   "mimetype": "text/x-python",
   "name": "python",
   "nbconvert_exporter": "python",
   "pygments_lexer": "ipython3",
   "version": "3.7.10"
  }
 },
 "nbformat": 4,
 "nbformat_minor": 5
}