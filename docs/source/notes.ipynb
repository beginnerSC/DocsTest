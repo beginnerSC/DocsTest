{
 "cells": [
  {
   "cell_type": "markdown",
   "metadata": {},
   "source": [
    "# Notes\n",
    "\n",
    "* Import a project from GitHub to readthedocs (RTD)\n",
    "    * 如果 RTD 不是以 GitHub 註冊的，要先把 GitHub 加到 Connected Services 裡\n",
    "        * RTD Dashbord > Settings > Connected Services\n",
    "    * RTD Dashboard > Import a Project\n",
    "    * Select a repo\n",
    "    * Input a project name（不能和 RTD 目前上線的任何 project 重名）\n",
    "    * GitHub 端的 webhook 會自動建立，也可以去 RTD 這個 project 裡的 admin > integrations 看\n",
    "* nbphinx（參考 sphinx tutorial [new](https://www.youtube.com/watch?v=RvJ54ADcVno), [old](https://www.youtube.com/watch?v=oJsUvBQyHBs&feature=youtu.be) & [nbsphix doc](https://nbsphinx.readthedocs.io/en/0.7.1/index.html)）\n",
    "    * 建一個 folder docs\n",
    "    * 進到 docs 裡 ```sphinx-quickstart``` 開啟 wizard\n",
    "        * [] 裡的是預設值\n",
    "        * release 隨便打，例如 0.1\n",
    "    * 跑完會出現 docs/source/conf.py，把 ```'nbsphinx'``` 加到 ```extensions``` 裡\n",
    "    * 在 docs 裡 ```make html```，生成的 index.html 在 docs/build/html 裡\n",
    "    * 在 docs/source/index.rst 裡的 toctree 很重要不能 delete 不然 sphinx 會沒辦法 make\n",
    "    * 在 docs/source 裡新增 ipynb，在 index.rst 的 toctree 裡紀錄 ipynb 的檔名（不需要副檔名）\n",
    "        * 每個 ipynb file 一定要有 title\n",
    "        * toctree 要對齊像這樣：\n",
    "            ```\n",
    "            .. toctree::\n",
    "               :maxdepth: 2\n",
    "               :caption: Contents:\n",
    "                                    <---- 這裡一定要有一個空行 \n",
    "               MYIPYNBFILENAME\n",
    "            ```\n",
    "        * 參考 [sphinx doc](https://www.sphinx-doc.org/en/master/usage/quickstart.html)\n",
    "        * 也可以改 toctree maxdepth\n",
    "    * 切換成 3rd party readthedoc theme\n",
    "        * 需要事先 ```pip install sphinx_rtd_theme```\n",
    "        * 到 conf.py import 並更換 ```html_theme```：\n",
    "            ```\n",
    "            import sphinx_rtd_theme\n",
    "            html_theme = 'sphinx_rtd_theme'\n",
    "            ```\n",
    "    * 內容全部加完後回到 docs 裡重新 ```make html```\n",
    "* 在 RTD 裡 build\n",
    "    * [在 RTD 環境配置裡安裝 nbsphinx](https://nbsphinx.readthedocs.io/en/0.3.3/usage.html#Automatic-Creation-of-HTML-and-PDF-output-on-readthedocs.org)，在這個 repo 裡創建 requirements.txt 加入以下內容：\n",
    "        ```\n",
    "        sphinx>=1.4\n",
    "        ipykernel\n",
    "        nbsphinx\n",
    "        ```\n",
    "    * 在 conf.py 裡加入 ```master_doc = 'index'``` 不然會出現 [contents.rst not found Error](https://stackoverflow.com/questions/56336234/build-fail-sphinx-error-contents-rst-not-found)\n",
    "    * 回到 RTD project 裡 build version\n",
    "        \n",
    "        \n",
    "# Math Equation Test\n",
    "\n",
    "1735 年，歐拉首先證明了\n",
    "\\begin{align*}\n",
    "\\sum_{n=1}^\\infty \\frac{1}{n^2} &= \\frac{1}{1^2} + \\frac{1}{2^2} + \\frac{1}{3^2} + \\frac{1}{4^2} + \\cdots\\\\\n",
    "&= \\frac{1}{1} + \\frac{1}{4} + \\frac{1}{9} + \\frac{1}{16} + \\cdots\\\\\n",
    "&= \\frac{\\pi^2}{6}.\n",
    "\\end{align*}"
   ]
  }
 ],
 "metadata": {
  "kernelspec": {
   "display_name": "Python 3",
   "language": "python",
   "name": "python3"
  },
  "language_info": {
   "codemirror_mode": {
    "name": "ipython",
    "version": 3
   },
   "file_extension": ".py",
   "mimetype": "text/x-python",
   "name": "python",
   "nbconvert_exporter": "python",
   "pygments_lexer": "ipython3",
   "version": "3.7.8"
  }
 },
 "nbformat": 4,
 "nbformat_minor": 4
}
