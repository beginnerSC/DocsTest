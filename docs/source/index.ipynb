{
 "cells": [
  {
   "cell_type": "markdown",
   "id": "competent-muslim",
   "metadata": {},
   "source": [
    "# Welcome to DocsTestBeginnerSC's documentation!"
   ]
  },
  {
   "cell_type": "markdown",
   "id": "peaceful-microwave",
   "metadata": {},
   "source": [
    ".. toctree::\n",
    "   :maxdepth: 2\n",
    "   :caption: Contents:\n",
    "   \n",
    "   hide_code\n",
    "   notes"
   ]
  },
  {
   "cell_type": "code",
   "execution_count": 1,
   "id": "wireless-pavilion",
   "metadata": {},
   "outputs": [
    {
     "data": {
      "text/plain": [
       "2"
      ]
     },
     "execution_count": 1,
     "metadata": {},
     "output_type": "execute_result"
    }
   ],
   "source": [
    "1+1"
   ]
  }
 ],
 "metadata": {
  "kernelspec": {
   "display_name": "Python 3",
   "language": "python",
   "name": "python3"
  },
  "language_info": {
   "codemirror_mode": {
    "name": "ipython",
    "version": 3
   },
   "file_extension": ".py",
   "mimetype": "text/x-python",
   "name": "python",
   "nbconvert_exporter": "python",
   "pygments_lexer": "ipython3",
   "version": "3.7.10"
  }
 },
 "nbformat": 4,
 "nbformat_minor": 5
}
