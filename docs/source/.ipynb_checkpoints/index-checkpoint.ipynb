{
 "cells": [
  {
   "cell_type": "markdown",
   "id": "enormous-daily",
   "metadata": {},
   "source": [
    "# Welcome to DocsTestBeginnerSC's documentation!"
   ]
  },
  {
   "cell_type": "code",
   "execution_count": null,
   "id": "personalized-gibraltar",
   "metadata": {},
   "outputs": [],
   "source": [
    ".. toctree::\n",
    "   :maxdepth: 2\n",
    "   :caption: Contents:\n",
    "   \n",
    "   hide_code\n",
    "   notes"
   ]
  },
  {
   "cell_type": "code",
   "execution_count": 1,
   "id": "resident-transsexual",
   "metadata": {},
   "outputs": [
    {
     "data": {
      "text/plain": [
       "2"
      ]
     },
     "execution_count": 1,
     "metadata": {},
     "output_type": "execute_result"
    }
   ],
   "source": [
    "1+1"
   ]
  }
 ],
 "metadata": {
  "kernelspec": {
   "display_name": "Python 3",
   "language": "python",
   "name": "python3"
  },
  "language_info": {
   "codemirror_mode": {
    "name": "ipython",
    "version": 3
   },
   "file_extension": ".py",
   "mimetype": "text/x-python",
   "name": "python",
   "nbconvert_exporter": "python",
   "pygments_lexer": "ipython3",
   "version": "3.7.10"
  }
 },
 "nbformat": 4,
 "nbformat_minor": 5
}
