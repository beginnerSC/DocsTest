{
 "cells": [
  {
   "cell_type": "markdown",
   "metadata": {},
   "source": [
    "# Notes\n",
    "\n",
    "* Import a project from GitHub to readthedocs\n",
    "    * 如果 readthedocs 不是以 GitHub 註冊的，要先把 GitHub 加到 Connected Services 裡\n",
    "        * readthedocs Dashbord > Settings > Connected Services\n",
    "    * readthedocs Dashboard > Import a Project\n",
    "    * Select a repo\n",
    "    * Input a project name（不能和 readthedocs 目前上線的任何 project 重名）\n",
    "    * GitHub 端的 webhook 會自動建立，也可以去 readthedocs 這個 project 裡的 admin > integrations 看\n",
    "* nbphinx（參考 sphinx tutorial [1](https://www.youtube.com/watch?v=RvJ54ADcVno), [2](https://www.youtube.com/watch?v=oJsUvBQyHBs&feature=youtu.be) & [nbsphix doc](https://nbsphinx.readthedocs.io/en/0.7.1/index.html)）\n",
    "    * 建一個 folder docs\n",
    "    * 進到 docs 裡 ```sphinx-quickstart``` 開啟 wizard\n",
    "        * [] 裡的是預設值\n",
    "        * release 隨便打，例如 0.1\n",
    "    * 跑完會出現 docs/source/conf.py，把 ```'nbsphinx'``` 加到 ```extensions``` 裡\n",
    "    * 在 docs 裡 ```make html```，生成的 index.html 在 docs/build/html 裡\n",
    "    * 在 docs/source/index.rst 裡的 toctree 很重要不能 delete 不然 sphinx 會沒辦法 make\n",
    "    * 在 docs/source 裡新增 ipynb，在 index.rst 的 toctree 裡紀錄 ipynb 的檔名（不需要副檔名）\n",
    "        * 每個 ipynb file 一定要有 title\n",
    "        * toctree 要對齊像這樣：\n",
    "            ```\n",
    "            .. toctree::\n",
    "               :maxdepth: 2\n",
    "               :caption: Contents:\n",
    "                                    <---- 這裡一定要有一個空行 \n",
    "               MYIPYNBFILENAME\n",
    "            ```\n",
    "    * 也可以改 toctree maxdepth\n",
    "    * 內容全部加完後回到 docs 裡 ```make html```\n",
    "* [在 readthedocs 環境配置裡安裝 nbsphinx](https://nbsphinx.readthedocs.io/en/0.3.3/usage.html#Automatic-Creation-of-HTML-and-PDF-output-on-readthedocs.org)\n",
    "    * 在這個 repo 裡創建 requirements.txt 加入以下內容：\n",
    "        ```\n",
    "        sphinx>=1.4\n",
    "        ipykernel\n",
    "        nbsphinx\n",
    "        ```\n",
    "        \n",
    "        \n"
   ]
  }
 ],
 "metadata": {
  "kernelspec": {
   "display_name": "Python 3",
   "language": "python",
   "name": "python3"
  },
  "language_info": {
   "codemirror_mode": {
    "name": "ipython",
    "version": 3
   },
   "file_extension": ".py",
   "mimetype": "text/x-python",
   "name": "python",
   "nbconvert_exporter": "python",
   "pygments_lexer": "ipython3",
   "version": "3.7.8"
  }
 },
 "nbformat": 4,
 "nbformat_minor": 4
}
