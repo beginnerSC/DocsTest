{
 "cells": [
  {
   "cell_type": "markdown",
   "metadata": {},
   "source": [
    "* 如果 readthedocs 不是以 GitHub 註冊的，要先把 GitHub 加到 Connected Services 裡\n",
    "    * readthedocs Dashbord > Settings > Connected Services\n",
    "* readthedocs Dashboard > Import a Project\n",
    "* Select a repo\n",
    "* Input a project name（不能和 readthedocs 的任何 project 重名）\n",
    "* GitHub 端的 webhook 會自動建立，也可以去 readthedocs 這個 project 裡的 admin > integrations 看"
   ]
  }
 ],
 "metadata": {
  "kernelspec": {
   "display_name": "Python 3",
   "language": "python",
   "name": "python3"
  },
  "language_info": {
   "codemirror_mode": {
    "name": "ipython",
    "version": 3
   },
   "file_extension": ".py",
   "mimetype": "text/x-python",
   "name": "python",
   "nbconvert_exporter": "python",
   "pygments_lexer": "ipython3",
   "version": "3.7.8"
  }
 },
 "nbformat": 4,
 "nbformat_minor": 4
}
