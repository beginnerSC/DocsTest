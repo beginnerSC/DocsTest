{
 "cells": [
  {
   "cell_type": "markdown",
   "metadata": {},
   "source": [
    "* Add readthedocs to a GitHub repo's webhook\n",
    "    * Go to Settings > Webhooks \n",
    "    * In Payload URL put https://readthedocs.org/\n",
    "    * Add webhook\n",
    "    * 如果 Read the Docs 不是以 GitHub 帳號登入，還要去 Read the Docs Dashboard 連接 GitHub：\n",
    "        * Settings > Connected Services\n",
    "    "
   ]
  }
 ],
 "metadata": {
  "kernelspec": {
   "display_name": "Python 3",
   "language": "python",
   "name": "python3"
  },
  "language_info": {
   "codemirror_mode": {
    "name": "ipython",
    "version": 3
   },
   "file_extension": ".py",
   "mimetype": "text/x-python",
   "name": "python",
   "nbconvert_exporter": "python",
   "pygments_lexer": "ipython3",
   "version": "3.7.8"
  }
 },
 "nbformat": 4,
 "nbformat_minor": 4
}
